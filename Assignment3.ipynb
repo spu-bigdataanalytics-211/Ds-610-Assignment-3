{
  "nbformat": 4,
  "nbformat_minor": 0,
  "metadata": {
    "colab": {
      "name": "Assignment3.ipynb",
      "provenance": [],
      "collapsed_sections": [],
      "toc_visible": true
    },
    "kernelspec": {
      "display_name": "Python 3",
      "name": "python3"
    },
    "language_info": {
      "name": "python"
    }
  },
  "cells": [
    {
      "cell_type": "code",
      "metadata": {
        "id": "GDKcfcYzh5cb",
        "colab": {
          "base_uri": "https://localhost:8080/"
        },
        "outputId": "3986345a-4d09-49b0-be66-9107c7fb4494"
      },
      "source": [
        "import os\n",
        "os.cpu_count()"
      ],
      "execution_count": null,
      "outputs": [
        {
          "output_type": "execute_result",
          "data": {
            "text/plain": [
              "2"
            ]
          },
          "metadata": {
            "tags": []
          },
          "execution_count": 1
        }
      ]
    },
    {
      "cell_type": "code",
      "metadata": {
        "colab": {
          "base_uri": "https://localhost:8080/"
        },
        "id": "D9foyBsnioe9",
        "outputId": "341213f4-566f-4dc7-b6ab-f149af4afa4c"
      },
      "source": [
        "# install java libs and spark.\n",
        "!apt update > /dev/null\n",
        "!apt-get install openjdk-8-jdk-headless -qq > /dev/null\n",
        "!wget -q https://downloads.apache.org/spark/spark-3.1.1/spark-3.1.1-bin-hadoop3.2.tgz\n",
        "!tar xf spark-3.1.1-bin-hadoop3.2.tgz\n",
        "!pip install -q findspark"
      ],
      "execution_count": null,
      "outputs": [
        {
          "output_type": "stream",
          "text": [
            "\n",
            "WARNING: apt does not have a stable CLI interface. Use with caution in scripts.\n",
            "\n"
          ],
          "name": "stdout"
        }
      ]
    },
    {
      "cell_type": "code",
      "metadata": {
        "id": "ZUOxffWplhP6"
      },
      "source": [
        "# set environment variables for java and spark\n",
        "import os\n",
        "os.environ[\"JAVA_HOME\"] = \"/usr/lib/jvm/java-8-openjdk-amd64\"\n",
        "os.environ[\"SPARK_HOME\"] = \"/content/spark-3.1.1-bin-hadoop3.2\"\n"
      ],
      "execution_count": null,
      "outputs": []
    },
    {
      "cell_type": "code",
      "metadata": {
        "id": "UAuVtWXoll49"
      },
      "source": [
        "# add pyspark to sys.path\n",
        "import findspark\n",
        "findspark.init()"
      ],
      "execution_count": null,
      "outputs": []
    },
    {
      "cell_type": "code",
      "metadata": {
        "colab": {
          "base_uri": "https://localhost:8080/"
        },
        "id": "oJuMHBanlqCx",
        "outputId": "5c6cc344-9533-4dea-e982-48214dfea9b2"
      },
      "source": [
        "! java --version"
      ],
      "execution_count": null,
      "outputs": [
        {
          "output_type": "stream",
          "text": [
            "openjdk 11.0.11 2021-04-20\n",
            "OpenJDK Runtime Environment (build 11.0.11+9-Ubuntu-0ubuntu2.18.04)\n",
            "OpenJDK 64-Bit Server VM (build 11.0.11+9-Ubuntu-0ubuntu2.18.04, mixed mode, sharing)\n"
          ],
          "name": "stdout"
        }
      ]
    },
    {
      "cell_type": "code",
      "metadata": {
        "id": "U4UALnBimTTa"
      },
      "source": [
        "from pyspark.sql import SparkSession\n",
        "spark = SparkSession.builder.master(\"local[*]\").getOrCreate()"
      ],
      "execution_count": null,
      "outputs": []
    },
    {
      "cell_type": "code",
      "metadata": {
        "colab": {
          "base_uri": "https://localhost:8080/",
          "height": 216
        },
        "id": "bsZPuGMwmwKI",
        "outputId": "b1796439-beab-4a54-b3a2-2684dcfb3fed"
      },
      "source": [
        "spark"
      ],
      "execution_count": null,
      "outputs": [
        {
          "output_type": "execute_result",
          "data": {
            "text/html": [
              "\n",
              "            <div>\n",
              "                <p><b>SparkSession - in-memory</b></p>\n",
              "                \n",
              "        <div>\n",
              "            <p><b>SparkContext</b></p>\n",
              "\n",
              "            <p><a href=\"http://54a7535345d8:4040\">Spark UI</a></p>\n",
              "\n",
              "            <dl>\n",
              "              <dt>Version</dt>\n",
              "                <dd><code>v3.1.1</code></dd>\n",
              "              <dt>Master</dt>\n",
              "                <dd><code>local[*]</code></dd>\n",
              "              <dt>AppName</dt>\n",
              "                <dd><code>pyspark-shell</code></dd>\n",
              "            </dl>\n",
              "        </div>\n",
              "        \n",
              "            </div>\n",
              "        "
            ],
            "text/plain": [
              "<pyspark.sql.session.SparkSession at 0x7f0916e5c9d0>"
            ]
          },
          "metadata": {
            "tags": []
          },
          "execution_count": 19
        }
      ]
    },
    {
      "cell_type": "code",
      "metadata": {
        "id": "sIFah_XLteWK"
      },
      "source": [
        "#import SparkSession\n",
        "from pyspark.sql import SparkSession\n",
        "spark=SparkSession.builder.appName('assignment_spark').getOrCreate()"
      ],
      "execution_count": null,
      "outputs": []
    },
    {
      "cell_type": "code",
      "metadata": {
        "id": "wyjJ4F0Ut67Q"
      },
      "source": [
        "from google.colab import drive"
      ],
      "execution_count": null,
      "outputs": []
    },
    {
      "cell_type": "code",
      "metadata": {
        "colab": {
          "base_uri": "https://localhost:8080/"
        },
        "id": "3X-u1A6puB7k",
        "outputId": "a441f8c4-fd9a-4134-99d1-c20fe6b5801a"
      },
      "source": [
        "drive.mount('/content/drive')"
      ],
      "execution_count": null,
      "outputs": [
        {
          "output_type": "stream",
          "text": [
            "Mounted at /content/drive\n"
          ],
          "name": "stdout"
        }
      ]
    },
    {
      "cell_type": "code",
      "metadata": {
        "id": "zZDa-t7HuM3H"
      },
      "source": [
        "sc = spark.sparkContext\n",
        "rdd = sc.textFile('/content/drive/MyDrive/AirlineInfo/files/*.csv.bz2')"
      ],
      "execution_count": null,
      "outputs": []
    },
    {
      "cell_type": "code",
      "metadata": {
        "colab": {
          "base_uri": "https://localhost:8080/"
        },
        "id": "2L0rr7QMuka6",
        "outputId": "70262131-e46a-45c7-8031-6eff6c968644"
      },
      "source": [
        "rdd.take(2)"
      ],
      "execution_count": null,
      "outputs": [
        {
          "output_type": "execute_result",
          "data": {
            "text/plain": [
              "['Year,Month,DayofMonth,DayOfWeek,DepTime,CRSDepTime,ArrTime,CRSArrTime,UniqueCarrier,FlightNum,TailNum,ActualElapsedTime,CRSElapsedTime,AirTime,ArrDelay,DepDelay,Origin,Dest,Distance,TaxiIn,TaxiOut,Cancelled,CancellationCode,Diverted,CarrierDelay,WeatherDelay,NASDelay,SecurityDelay,LateAircraftDelay',\n",
              " '1987,10,14,3,741,730,912,849,PS,1451,NA,91,79,NA,23,11,SAN,SFO,447,NA,NA,0,NA,0,NA,NA,NA,NA,NA']"
            ]
          },
          "metadata": {
            "tags": []
          },
          "execution_count": 10
        }
      ]
    },
    {
      "cell_type": "code",
      "metadata": {
        "id": "T5YSJJCYu883"
      },
      "source": [
        "sparkDF = rdd.map(lambda x: str(x)).map(lambda w: w.split(',')).toDF()"
      ],
      "execution_count": null,
      "outputs": []
    },
    {
      "cell_type": "code",
      "metadata": {
        "colab": {
          "base_uri": "https://localhost:8080/"
        },
        "id": "StHq6cC1TPKW",
        "outputId": "d54eb31b-0eb7-4ddf-d626-5f68d060e154"
      },
      "source": [
        "# Let's checkout out dataset by printing first 10 rows\n",
        "sparkDF.createOrReplaceTempView(\"DATA\")\n",
        "spark.sql(\"SELECT * from DATA limit 10;\").show()"
      ],
      "execution_count": null,
      "outputs": [
        {
          "output_type": "stream",
          "text": [
            "+----+-----+----------+---------+-------+----------+-------+----------+-------------+---------+-------+-----------------+--------------+-------+--------+--------+------+----+--------+------+-------+---------+----------------+--------+------------+------------+--------+-------------+-----------------+\n",
            "|  _1|   _2|        _3|       _4|     _5|        _6|     _7|        _8|           _9|      _10|    _11|              _12|           _13|    _14|     _15|     _16|   _17| _18|     _19|   _20|    _21|      _22|             _23|     _24|         _25|         _26|     _27|          _28|              _29|\n",
            "+----+-----+----------+---------+-------+----------+-------+----------+-------------+---------+-------+-----------------+--------------+-------+--------+--------+------+----+--------+------+-------+---------+----------------+--------+------------+------------+--------+-------------+-----------------+\n",
            "|Year|Month|DayofMonth|DayOfWeek|DepTime|CRSDepTime|ArrTime|CRSArrTime|UniqueCarrier|FlightNum|TailNum|ActualElapsedTime|CRSElapsedTime|AirTime|ArrDelay|DepDelay|Origin|Dest|Distance|TaxiIn|TaxiOut|Cancelled|CancellationCode|Diverted|CarrierDelay|WeatherDelay|NASDelay|SecurityDelay|LateAircraftDelay|\n",
            "|1987|   10|        14|        3|    741|       730|    912|       849|           PS|     1451|     NA|               91|            79|     NA|      23|      11|   SAN| SFO|     447|    NA|     NA|        0|              NA|       0|          NA|          NA|      NA|           NA|               NA|\n",
            "|1987|   10|        15|        4|    729|       730|    903|       849|           PS|     1451|     NA|               94|            79|     NA|      14|      -1|   SAN| SFO|     447|    NA|     NA|        0|              NA|       0|          NA|          NA|      NA|           NA|               NA|\n",
            "|1987|   10|        17|        6|    741|       730|    918|       849|           PS|     1451|     NA|               97|            79|     NA|      29|      11|   SAN| SFO|     447|    NA|     NA|        0|              NA|       0|          NA|          NA|      NA|           NA|               NA|\n",
            "|1987|   10|        18|        7|    729|       730|    847|       849|           PS|     1451|     NA|               78|            79|     NA|      -2|      -1|   SAN| SFO|     447|    NA|     NA|        0|              NA|       0|          NA|          NA|      NA|           NA|               NA|\n",
            "|1987|   10|        19|        1|    749|       730|    922|       849|           PS|     1451|     NA|               93|            79|     NA|      33|      19|   SAN| SFO|     447|    NA|     NA|        0|              NA|       0|          NA|          NA|      NA|           NA|               NA|\n",
            "|1987|   10|        21|        3|    728|       730|    848|       849|           PS|     1451|     NA|               80|            79|     NA|      -1|      -2|   SAN| SFO|     447|    NA|     NA|        0|              NA|       0|          NA|          NA|      NA|           NA|               NA|\n",
            "|1987|   10|        22|        4|    728|       730|    852|       849|           PS|     1451|     NA|               84|            79|     NA|       3|      -2|   SAN| SFO|     447|    NA|     NA|        0|              NA|       0|          NA|          NA|      NA|           NA|               NA|\n",
            "|1987|   10|        23|        5|    731|       730|    902|       849|           PS|     1451|     NA|               91|            79|     NA|      13|       1|   SAN| SFO|     447|    NA|     NA|        0|              NA|       0|          NA|          NA|      NA|           NA|               NA|\n",
            "|1987|   10|        24|        6|    744|       730|    908|       849|           PS|     1451|     NA|               84|            79|     NA|      19|      14|   SAN| SFO|     447|    NA|     NA|        0|              NA|       0|          NA|          NA|      NA|           NA|               NA|\n",
            "+----+-----+----------+---------+-------+----------+-------+----------+-------------+---------+-------+-----------------+--------------+-------+--------+--------+------+----+--------+------+-------+---------+----------------+--------+------------+------------+--------+-------------+-----------------+\n",
            "\n"
          ],
          "name": "stdout"
        }
      ]
    },
    {
      "cell_type": "code",
      "metadata": {
        "colab": {
          "base_uri": "https://localhost:8080/"
        },
        "id": "4-2ZoxXPU6hW",
        "outputId": "83eacae2-1568-439c-fb4d-3f2457a2a96b"
      },
      "source": [
        "# Find the # of flights each airline made so far from 1987 until recent\n",
        "# Here we will count the total no. of flights from each airline. Since we including all the years, we don't need to filter for years.\n",
        "sparkDF.createOrReplaceTempView(\"DATA\")\n",
        "spark.sql(\"SELECT data._9, count(data._10) from DATA group by data._9 order by data._9;\").show()"
      ],
      "execution_count": null,
      "outputs": [
        {
          "output_type": "stream",
          "text": [
            "+------+----------+\n",
            "|    _9|count(_10)|\n",
            "+------+----------+\n",
            "|    9E|    521059|\n",
            "|    AA|  14984647|\n",
            "|    AQ|    154381|\n",
            "|    AS|   2878021|\n",
            "|    B6|    811341|\n",
            "|    CO|   8145788|\n",
            "|    DH|    693047|\n",
            "|    DL|  16547870|\n",
            "|    EA|    919785|\n",
            "|    EV|   1697172|\n",
            "|    F9|    336958|\n",
            "|    FL|   1265138|\n",
            "|    HA|    274265|\n",
            "|    HP|   3636682|\n",
            "|ML (1)|     70622|\n",
            "|    MQ|   3954895|\n",
            "|    NW|  10292627|\n",
            "|    OH|   1464176|\n",
            "|    OO|   3090853|\n",
            "|PA (1)|    316167|\n",
            "+------+----------+\n",
            "only showing top 20 rows\n",
            "\n"
          ],
          "name": "stdout"
        }
      ]
    },
    {
      "cell_type": "markdown",
      "metadata": {
        "id": "fno3G7CNRf6o"
      },
      "source": [
        "In the above table, the first column shows all the unique carrier code from each airline and the second column shows the total no. of flights for that airline "
      ]
    },
    {
      "cell_type": "code",
      "metadata": {
        "colab": {
          "base_uri": "https://localhost:8080/"
        },
        "id": "LukQDzCFVOjx",
        "outputId": "dcbb0c0d-6431-4eda-e994-309c7a5e3dab"
      },
      "source": [
        "# Find the mean departure delay per origination airport.\n",
        "# What is the average departure delay from each airport\n",
        "sparkDF.createOrReplaceTempView(\"DATA\")\n",
        "spark.sql(\"SELECT data._17, avg(data._16) from DATA group by data._17 order by data._17;\").show()"
      ],
      "execution_count": null,
      "outputs": [
        {
          "output_type": "stream",
          "text": [
            "+---+------------------------+\n",
            "|_17|avg(CAST(_16 AS DOUBLE))|\n",
            "+---+------------------------+\n",
            "|ABE|      7.9272827780290465|\n",
            "|ABI|      3.8167625695689087|\n",
            "|ABQ|      6.7483899198440636|\n",
            "|ABY|       9.886588658865886|\n",
            "|ACK|      27.383211678832115|\n",
            "|ACT|      1.5437979383457912|\n",
            "|ACV|      11.044615183131794|\n",
            "|ACY|       5.264685395867193|\n",
            "|ADK|      22.731977818853974|\n",
            "|ADQ|       8.925332778702163|\n",
            "|AEX|       6.921160836660509|\n",
            "|AGS|       7.590694188191882|\n",
            "|AKN|       10.10936420179682|\n",
            "|ALB|        6.78996656683151|\n",
            "|ALO|       5.477433004231312|\n",
            "|AMA|       5.964805154955508|\n",
            "|ANC|       7.963208352025641|\n",
            "|ANI|       6.555555555555555|\n",
            "|APF|       7.952959028831563|\n",
            "|ASE|      12.586657443701483|\n",
            "+---+------------------------+\n",
            "only showing top 20 rows\n",
            "\n"
          ],
          "name": "stdout"
        }
      ]
    },
    {
      "cell_type": "markdown",
      "metadata": {
        "id": "LgplJCmlR8Gj"
      },
      "source": [
        "Here in the above table, we have origin airport code on the left and the average departure delay on the right for that airport"
      ]
    },
    {
      "cell_type": "code",
      "metadata": {
        "id": "5eaAN0aGY35T",
        "colab": {
          "base_uri": "https://localhost:8080/"
        },
        "outputId": "b390c948-8a5b-400e-d2fc-272b7c3a9385"
      },
      "source": [
        "# What is the average departure delay from each airport?\n",
        "sparkDF.createOrReplaceTempView(\"DATA\")\n",
        "spark.sql(\"SELECT data._17, avg(data._16) from DATA group by data._17 order by data._17;\").show()"
      ],
      "execution_count": null,
      "outputs": [
        {
          "output_type": "stream",
          "text": [
            "+---+------------------------+\n",
            "|_17|avg(CAST(_16 AS DOUBLE))|\n",
            "+---+------------------------+\n",
            "|ABE|      7.9272827780290465|\n",
            "|ABI|      3.8167625695689087|\n",
            "|ABQ|      6.7483899198440636|\n",
            "|ABY|       9.886588658865886|\n",
            "|ACK|      27.383211678832115|\n",
            "|ACT|      1.5437979383457912|\n",
            "|ACV|      11.044615183131794|\n",
            "|ACY|       5.264685395867193|\n",
            "|ADK|      22.731977818853974|\n",
            "|ADQ|       8.925332778702163|\n",
            "|AEX|       6.921160836660509|\n",
            "|AGS|       7.590694188191882|\n",
            "|AKN|       10.10936420179682|\n",
            "|ALB|        6.78996656683151|\n",
            "|ALO|       5.477433004231312|\n",
            "|AMA|       5.964805154955508|\n",
            "|ANC|       7.963208352025641|\n",
            "|ANI|       6.555555555555555|\n",
            "|APF|       7.952959028831563|\n",
            "|ASE|      12.586657443701483|\n",
            "+---+------------------------+\n",
            "only showing top 20 rows\n",
            "\n"
          ],
          "name": "stdout"
        }
      ]
    },
    {
      "cell_type": "markdown",
      "metadata": {
        "id": "r2QzprVUiOPG"
      },
      "source": [
        "Here in the above table, we have airport code on the left and the average departure delay on the right for that airpor"
      ]
    },
    {
      "cell_type": "code",
      "metadata": {
        "colab": {
          "base_uri": "https://localhost:8080/"
        },
        "id": "CCLIg474VnIC",
        "outputId": "3e937a09-bbf4-426c-d062-0075096a452b"
      },
      "source": [
        "# What day the delays are the worst?\n",
        "sparkDF.createOrReplaceTempView(\"DATA\")\n",
        "spark.sql(\"SELECT data._3, max(data._16) from DATA where data._16 <> 'NA' group by data._3 order by data._3 desc;\").show()"
      ],
      "execution_count": null,
      "outputs": [
        {
          "output_type": "stream",
          "text": [
            "+---+--------+\n",
            "| _3|max(_16)|\n",
            "+---+--------+\n",
            "|  1|     994|\n",
            "| 10|     997|\n",
            "| 11|     991|\n",
            "| 12|     999|\n",
            "| 13|     999|\n",
            "| 14|     997|\n",
            "| 15|     991|\n",
            "| 16|     998|\n",
            "| 17|     996|\n",
            "| 18|     998|\n",
            "| 19|     999|\n",
            "|  2|     999|\n",
            "| 20|     997|\n",
            "| 21|     999|\n",
            "| 22|     998|\n",
            "| 23|     995|\n",
            "| 24|     990|\n",
            "| 25|     996|\n",
            "| 26|     998|\n",
            "| 27|     996|\n",
            "+---+--------+\n",
            "only showing top 20 rows\n",
            "\n"
          ],
          "name": "stdout"
        }
      ]
    },
    {
      "cell_type": "markdown",
      "metadata": {
        "id": "vTLW1D-5SVv-"
      },
      "source": [
        "Here in the above table we have day of the month on left and the max no. of delays on the right for that day"
      ]
    },
    {
      "cell_type": "code",
      "metadata": {
        "colab": {
          "base_uri": "https://localhost:8080/"
        },
        "id": "P4jtii0UWfDJ",
        "outputId": "74e0b964-eecd-4224-f804-508d6403ba23"
      },
      "source": [
        "# Which day of the week is the most of the flights cancelled?\n",
        "sparkDF.createOrReplaceTempView(\"DATA\")\n",
        "spark.sql(\"SELECT data._4, sum(data._22)  from DATA where data._22<>'NA' group by data._4 order by data._4;\").show()"
      ],
      "execution_count": null,
      "outputs": [
        {
          "output_type": "stream",
          "text": [
            "+---------+------------------------+\n",
            "|       _4|sum(CAST(_22 AS DOUBLE))|\n",
            "+---------+------------------------+\n",
            "|        1|                344508.0|\n",
            "|        2|                376554.0|\n",
            "|        3|                363496.0|\n",
            "|        4|                356908.0|\n",
            "|        5|                340886.0|\n",
            "|        6|                263131.0|\n",
            "|        7|                257841.0|\n",
            "|DayOfWeek|                    null|\n",
            "+---------+------------------------+\n",
            "\n"
          ],
          "name": "stdout"
        }
      ]
    },
    {
      "cell_type": "markdown",
      "metadata": {
        "id": "9sTPzrZJhBdH"
      },
      "source": [
        "From the table above, looks like most flights were canceled on the 2nd day of the week"
      ]
    },
    {
      "cell_type": "markdown",
      "metadata": {
        "id": "lq6tC7gCXWLW"
      },
      "source": [
        ""
      ]
    },
    {
      "cell_type": "code",
      "metadata": {
        "colab": {
          "base_uri": "https://localhost:8080/"
        },
        "id": "0gaB6Z4SXbem",
        "outputId": "3f5bbecf-d95b-4bba-a8b9-c2f8fbbb6445"
      },
      "source": [
        "# Which day of the month is the most of the flights cancelled?\n",
        "sparkDF.createOrReplaceTempView(\"DATA\")\n",
        "spark.sql(\"SELECT data._3, sum(data._22)  from DATA where data._22<>'NA' group by data._3 order by data._3 desc;\").show()"
      ],
      "execution_count": null,
      "outputs": [
        {
          "output_type": "stream",
          "text": [
            "+----------+------------------------+\n",
            "|        _3|sum(CAST(_22 AS DOUBLE))|\n",
            "+----------+------------------------+\n",
            "|DayofMonth|                    null|\n",
            "|         9|                 77471.0|\n",
            "|         8|                 79673.0|\n",
            "|         7|                 74514.0|\n",
            "|         6|                 80456.0|\n",
            "|         5|                 75030.0|\n",
            "|         4|                 74104.0|\n",
            "|        31|                 42031.0|\n",
            "|        30|                 62031.0|\n",
            "|         3|                 67814.0|\n",
            "|        29|                 59860.0|\n",
            "|        28|                 65426.0|\n",
            "|        27|                 66611.0|\n",
            "|        26|                 70084.0|\n",
            "|        25|                 72709.0|\n",
            "|        24|                 63621.0|\n",
            "|        23|                 71394.0|\n",
            "|        22|                 71069.0|\n",
            "|        21|                 67306.0|\n",
            "|        20|                 65473.0|\n",
            "+----------+------------------------+\n",
            "only showing top 20 rows\n",
            "\n"
          ],
          "name": "stdout"
        }
      ]
    },
    {
      "cell_type": "markdown",
      "metadata": {
        "id": "Nyzh4KD_ilYa"
      },
      "source": [
        "So from the above table, we can say that most flights were canceled on the 6th day of the month"
      ]
    },
    {
      "cell_type": "code",
      "metadata": {
        "id": "ynWszkCqXmc5",
        "colab": {
          "base_uri": "https://localhost:8080/"
        },
        "outputId": "0dcb54fe-3c71-48b6-cac5-cbeae89d3ebe"
      },
      "source": [
        "# Find the on-time (ArrTime - CRSArrTime <= 0) performance for each unique carrier.\n",
        "sparkDF.createOrReplaceTempView(\"DATA\")\n",
        "spark.sql(\"SELECT data._9, sum(data._7 - data._8) from DATA where data._8<=0 group by data._9 order by data._9;\").show()"
      ],
      "execution_count": null,
      "outputs": [
        {
          "output_type": "stream",
          "text": [
            "+---+----------------------------------------------+\n",
            "| _9|sum((CAST(_7 AS DOUBLE) - CAST(_8 AS DOUBLE)))|\n",
            "+---+----------------------------------------------+\n",
            "| AA|                                  7.89070988E8|\n",
            "| DH|                                        2359.0|\n",
            "| EV|                                        2400.0|\n",
            "| FL|                                       16821.0|\n",
            "| HA|                                        2334.0|\n",
            "| OO|                                       75791.0|\n",
            "| UA|                                  1.47916537E8|\n",
            "| XE|                                          null|\n",
            "| YV|                                          null|\n",
            "+---+----------------------------------------------+\n",
            "\n"
          ],
          "name": "stdout"
        }
      ]
    },
    {
      "cell_type": "markdown",
      "metadata": {
        "id": "7JH_oczuiwoP"
      },
      "source": [
        "Here in the above table we have unique carrier code on the left and on time performance on the right. The carrier AA appears to have the best on time performance"
      ]
    }
  ]
}